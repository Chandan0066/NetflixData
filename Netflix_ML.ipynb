{
 "cells": [
  {
   "cell_type": "code",
   "execution_count": 1,
   "id": "56a6961e-758b-497b-9faf-9808c05493a8",
   "metadata": {},
   "outputs": [],
   "source": [
    "import pandas as pd\n",
    "import numpy as np\n",
    "from sklearn.feature_extraction.text import TfidfVectorizer\n",
    "from sklearn.metrics.pairwise import cosine_similarity\n",
    "from sklearn.preprocessing import StandardScaler\n",
    "from sklearn.cluster import KMeans\n",
    "import warnings\n",
    "warnings.filterwarnings('ignore')"
   ]
  },
  {
   "cell_type": "code",
   "execution_count": 3,
   "id": "2cb5e301-30d5-4ca0-93da-c69834252725",
   "metadata": {},
   "outputs": [],
   "source": [
    "df = pd.read_csv(\"C://Users/admin/Documents/Netflix/netflix_forsql.csv\")"
   ]
  },
  {
   "cell_type": "code",
   "execution_count": 8,
   "id": "f4f08146-7ed2-4f51-bde0-47d90b9b6fe2",
   "metadata": {},
   "outputs": [
    {
     "data": {
      "text/plain": [
       "show_id                   0\n",
       "type                      0\n",
       "title                     0\n",
       "director                  0\n",
       "country                   0\n",
       "date_added                0\n",
       "date(Corrected format)    0\n",
       "release_year              0\n",
       "rating                    0\n",
       "duration                  0\n",
       "listed_in                 0\n",
       "dtype: int64"
      ]
     },
     "execution_count": 8,
     "metadata": {},
     "output_type": "execute_result"
    }
   ],
   "source": [
    "df.isnull().sum()"
   ]
  },
  {
   "cell_type": "code",
   "execution_count": 12,
   "id": "4035ef59-fe26-4f3b-bcd7-f190273848db",
   "metadata": {},
   "outputs": [],
   "source": [
    "# Fill missing values\n",
    "df['director'].fillna('Not Given', inplace=True)\n",
    "df['listed_in'].fillna('Not Given', inplace=True)\n",
    "df['country'].fillna('Not Given', inplace=True)"
   ]
  },
  {
   "cell_type": "code",
   "execution_count": 16,
   "id": "93f4a241-5135-4b23-ac1d-3da923718125",
   "metadata": {},
   "outputs": [],
   "source": [
    "# Convert 'date_added' to datetime\n",
    "df['date(Corrected format)'] = pd.to_datetime(df['date(Corrected format)'], errors='coerce')"
   ]
  },
  {
   "cell_type": "code",
   "execution_count": 24,
   "id": "e1396c1c-4976-4a7d-849f-86ffa4e345b8",
   "metadata": {},
   "outputs": [],
   "source": [
    "# Convert 'duration' to minutes\n",
    "def convert_duration(x):\n",
    "    try:\n",
    "        if 'min' in x:\n",
    "            return int(x.split()[0])\n",
    "        elif 'Season' in x:\n",
    "            return int(x.split()[0]) * 60  # Assume 1 season = 60 mins\n",
    "        else:\n",
    "            return np.nan\n",
    "    except:\n",
    "        return np.nan\n",
    "\n",
    "df['duration_mins'] = df['duration'].apply(convert_duration)"
   ]
  },
  {
   "cell_type": "code",
   "execution_count": 30,
   "id": "1e43a21e-5a92-46f7-87fa-e5ddfc1753bf",
   "metadata": {},
   "outputs": [],
   "source": [
    "# Extract year\n",
    "df['year'] = df['date(Corrected format)'].dt.year\n",
    "\n",
    "# Count genres per row\n",
    "df['num_genres'] = df['listed_in'].apply(lambda x: len(str(x).split(',')))"
   ]
  },
  {
   "cell_type": "code",
   "execution_count": 41,
   "id": "273b3fc1-3450-44fe-ae77-ae78b87a3f55",
   "metadata": {},
   "outputs": [],
   "source": [
    "# Prepare genres for TF-IDF\n",
    "df['genres_clean'] = df['listed_in'].fillna('').str.replace(',', ' ')"
   ]
  },
  {
   "cell_type": "code",
   "execution_count": 46,
   "id": "743fb144-e83f-4f02-9294-a5281b5a785d",
   "metadata": {},
   "outputs": [],
   "source": [
    "# TF-IDF Vectorization\n",
    "tfidf = TfidfVectorizer(stop_words='english')\n",
    "tfidf_matrix = tfidf.fit_transform(df['genres_clean'])\n",
    "\n",
    "# Compute cosine similarity\n",
    "cosine_sim = cosine_similarity(tfidf_matrix, tfidf_matrix)"
   ]
  },
  {
   "cell_type": "code",
   "execution_count": 51,
   "id": "95545cce-6f22-4222-86d7-2201bcc9ebc3",
   "metadata": {},
   "outputs": [],
   "source": [
    "# Recommendation function\n",
    "def get_recommendations(title, cosine_sim=cosine_sim):\n",
    "    title = title.lower()\n",
    "    if title not in df['title'].str.lower().values:\n",
    "        return \"Title not found in the dataset.\"\n",
    "    idx = df[df['title'].str.lower() == title].index[0]\n",
    "    sim_scores = list(enumerate(cosine_sim[idx]))\n",
    "    sim_scores = sorted(sim_scores, key=lambda x: x[1], reverse=True)[1:6]\n",
    "    rec_indexes = [i[0] for i in sim_scores]\n",
    "    return df[['title', 'listed_in', 'type']].iloc[rec_indexes]\n"
   ]
  },
  {
   "cell_type": "code",
   "execution_count": 59,
   "id": "51b330ab-c6d3-458f-a323-6ee91717f3c7",
   "metadata": {},
   "outputs": [
    {
     "name": "stdout",
     "output_type": "stream",
     "text": [
      "Recommendations for 'Narcos':\n",
      "                       title  \\\n",
      "7219      Queen of the South   \n",
      "7342          Altered Carbon   \n",
      "7356          Narcos: Mexico   \n",
      "7656                 Shooter   \n",
      "7670  Marvel's Jessica Jones   \n",
      "\n",
      "                                             listed_in     type  \n",
      "7219  Crime TV Shows, TV Action & Adventure, TV Dramas  TV Show  \n",
      "7342  Crime TV Shows, TV Action & Adventure, TV Dramas  TV Show  \n",
      "7356  Crime TV Shows, TV Action & Adventure, TV Dramas  TV Show  \n",
      "7656  Crime TV Shows, TV Action & Adventure, TV Dramas  TV Show  \n",
      "7670  Crime TV Shows, TV Action & Adventure, TV Dramas  TV Show  \n"
     ]
    }
   ],
   "source": [
    "print(\"Recommendations for 'Narcos':\")\n",
    "print(get_recommendations('Narcos'))"
   ]
  },
  {
   "cell_type": "code",
   "execution_count": 61,
   "id": "91a4ff27-3036-4988-bac9-47eb14bcb212",
   "metadata": {},
   "outputs": [],
   "source": [
    "#Clustering Netflix Titles\n",
    "features = df[['duration_mins', 'year', 'num_genres']].fillna(0)"
   ]
  },
  {
   "cell_type": "code",
   "execution_count": 66,
   "id": "3c6cd87b-ccd4-45b4-aa0a-ee15aea75863",
   "metadata": {},
   "outputs": [],
   "source": [
    "# Scale features\n",
    "scaler = StandardScaler()\n",
    "scaled_features = scaler.fit_transform(features)"
   ]
  },
  {
   "cell_type": "code",
   "execution_count": 73,
   "id": "de62987c-f2e6-4318-b2b6-1c1acf13d799",
   "metadata": {},
   "outputs": [],
   "source": [
    "# Apply KMeans\n",
    "kmeans = KMeans(n_clusters=5, random_state=42)\n",
    "df['cluster'] = kmeans.fit_predict(scaled_features)\n"
   ]
  },
  {
   "cell_type": "code",
   "execution_count": null,
   "id": "7548d1c7-c5d0-4a08-b093-63e87bbee07e",
   "metadata": {},
   "outputs": [],
   "source": []
  },
  {
   "cell_type": "code",
   "execution_count": null,
   "id": "6d65b393-8f27-4cf7-b79e-653a4a71f801",
   "metadata": {},
   "outputs": [],
   "source": []
  },
  {
   "cell_type": "code",
   "execution_count": null,
   "id": "a3620ef6-f826-4895-98ac-4ef66b1c2656",
   "metadata": {},
   "outputs": [],
   "source": []
  },
  {
   "cell_type": "code",
   "execution_count": null,
   "id": "d8290ed2-6d04-40b9-9fef-e35dd86344ee",
   "metadata": {},
   "outputs": [],
   "source": []
  },
  {
   "cell_type": "code",
   "execution_count": null,
   "id": "36c257bf-6bfd-4dad-b871-934a311c4783",
   "metadata": {},
   "outputs": [],
   "source": []
  },
  {
   "cell_type": "code",
   "execution_count": null,
   "id": "b209d35e-8ca3-451e-bcc2-1bc4ed1d00f0",
   "metadata": {},
   "outputs": [],
   "source": []
  },
  {
   "cell_type": "code",
   "execution_count": null,
   "id": "7faabfb3-2246-4f7d-8c32-b58d8cfe9f39",
   "metadata": {},
   "outputs": [],
   "source": []
  },
  {
   "cell_type": "code",
   "execution_count": null,
   "id": "574c4b80-6654-4576-a17e-fc3263925435",
   "metadata": {},
   "outputs": [],
   "source": []
  },
  {
   "cell_type": "code",
   "execution_count": null,
   "id": "cc8fa772-5366-4f29-8a7b-cfe5434b0ae4",
   "metadata": {},
   "outputs": [],
   "source": []
  },
  {
   "cell_type": "code",
   "execution_count": null,
   "id": "c246474b-d4b3-4bbf-923a-950914794c4f",
   "metadata": {},
   "outputs": [],
   "source": []
  },
  {
   "cell_type": "code",
   "execution_count": null,
   "id": "26978036-6449-43ee-9fd3-de82819419e7",
   "metadata": {},
   "outputs": [],
   "source": []
  },
  {
   "cell_type": "code",
   "execution_count": null,
   "id": "132ace8b-0bda-4cf8-ab33-45818640f9c0",
   "metadata": {},
   "outputs": [],
   "source": []
  },
  {
   "cell_type": "code",
   "execution_count": null,
   "id": "c1be076a-bf77-4bd6-bc57-5855b821ee3f",
   "metadata": {},
   "outputs": [],
   "source": []
  }
 ],
 "metadata": {
  "kernelspec": {
   "display_name": "Python [conda env:base] *",
   "language": "python",
   "name": "conda-base-py"
  },
  "language_info": {
   "codemirror_mode": {
    "name": "ipython",
    "version": 3
   },
   "file_extension": ".py",
   "mimetype": "text/x-python",
   "name": "python",
   "nbconvert_exporter": "python",
   "pygments_lexer": "ipython3",
   "version": "3.12.7"
  }
 },
 "nbformat": 4,
 "nbformat_minor": 5
}
